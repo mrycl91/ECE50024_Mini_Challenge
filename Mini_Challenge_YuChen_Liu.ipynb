{
  "cells": [
    {
      "cell_type": "code",
      "execution_count": null,
      "id": "1da4a3b6",
      "metadata": {
        "colab": {
          "base_uri": "https://localhost:8080/"
        },
        "id": "1da4a3b6",
        "outputId": "3f0be022-bbff-48ba-868e-a1f192e8c88b"
      },
      "outputs": [
        {
          "output_type": "stream",
          "name": "stdout",
          "text": [
            "Drive already mounted at /content/drive; to attempt to forcibly remount, call drive.mount(\"/content/drive\", force_remount=True).\n"
          ]
        }
      ],
      "source": [
        "import time\n",
        "from typing import List, Dict\n",
        "\n",
        "import torch\n",
        "import torch.nn as nn\n",
        "import torch.optim as optim\n",
        "import torch.nn.functional as F\n",
        "import torchvision\n",
        "import torchvision.models as models\n",
        "import torchvision.transforms as transforms\n",
        "from torch.utils.data import TensorDataset\n",
        "from torchvision.transforms import InterpolationMode\n",
        "import pandas as pd\n",
        "\n",
        "import matplotlib.pyplot as plt\n",
        "\n",
        "from google.colab import drive\n",
        "drive.mount('/content/drive')\n",
        "\n",
        "dir_path = '/content/drive/MyDrive/Colab Notebooks/ECE50024/Mini_Challenge/'"
      ]
    },
    {
      "cell_type": "markdown",
      "id": "eW__X-0xC6IV",
      "metadata": {
        "id": "eW__X-0xC6IV"
      },
      "source": [
        "# Crop the Image"
      ]
    },
    {
      "cell_type": "code",
      "execution_count": null,
      "id": "e86ecc53",
      "metadata": {
        "id": "e86ecc53"
      },
      "outputs": [],
      "source": [
        "import cv2\n",
        "\n",
        "face_cascade = cv2.CascadeClassifier('haarcascade_frontalface_default.xml')\n",
        "\n",
        "def crop_face(img_path):\n",
        "    img = cv2.imread(img_path)\n",
        "    if img is None or img.size == 0:\n",
        "        return None, (0, 0, 0)\n",
        "\n",
        "    gray = cv2.cvtColor(img, cv2.COLOR_BGR2GRAY)\n",
        "    faces = face_cascade.detectMultiScale(gray, 1.1, 4)\n",
        "\n",
        "    if len(faces)==0:\n",
        "        return None, (0, 0, 0)\n",
        "\n",
        "    max_face = 0\n",
        "\n",
        "    for (x, y, w, h) in faces:\n",
        "        if w*h > max_face:\n",
        "            face = img[y:y+h+1, x:x+w+1, :]\n",
        "            max_face = w*h\n",
        "\n",
        "    if face.size<=0:\n",
        "        return None, (0, 0, 0)\n",
        "\n",
        "    return face, face.shape\n",
        "\n",
        "train_num = 69540\n",
        "for i in range(train_num):\n",
        "    if i%1500==0:\n",
        "        print(f'Progress: [{i}/{train_num}]')\n",
        "    face, (w, h, d) = crop_face('train/' + str(i) + '.jpg')\n",
        "    if w>0 and h>0:\n",
        "        cv2.imwrite('train_crop/' + str(i) + '.jpg', face)"
      ]
    },
    {
      "cell_type": "markdown",
      "id": "E0H22sESDH4h",
      "metadata": {
        "id": "E0H22sESDH4h"
      },
      "source": [
        "# Extract the Zipfile"
      ]
    },
    {
      "cell_type": "code",
      "execution_count": null,
      "id": "54bJ5AGw4znd",
      "metadata": {
        "colab": {
          "base_uri": "https://localhost:8080/"
        },
        "id": "54bJ5AGw4znd",
        "outputId": "2f2bf2e3-6ac0-4af9-9c53-82e37768c46d"
      },
      "outputs": [
        {
          "name": "stdout",
          "output_type": "stream",
          "text": [
            "Extraction complete.\n"
          ]
        }
      ],
      "source": [
        "import zipfile\n",
        "\n",
        "zip_file_path = dir_path + 'train_crop.zip'\n",
        "\n",
        "extracted_folder = dir_path + 'train_crop_1'\n",
        "\n",
        "with zipfile.ZipFile(zip_file_path, 'r') as zip_ref:\n",
        "    zip_ref.extractall(extracted_folder)\n",
        "\n",
        "print(\"Extraction complete.\")"
      ]
    },
    {
      "cell_type": "markdown",
      "id": "3bH6US3_DMly",
      "metadata": {
        "id": "3bH6US3_DMly"
      },
      "source": [
        "# Make Sure the GPU Works\n",
        "Revised from my former AI assignment"
      ]
    },
    {
      "cell_type": "code",
      "execution_count": null,
      "id": "7b106f9a",
      "metadata": {
        "colab": {
          "base_uri": "https://localhost:8080/"
        },
        "id": "7b106f9a",
        "outputId": "08c70e7a-159c-440c-8c17-2d6cc45712e8"
      },
      "outputs": [
        {
          "output_type": "stream",
          "name": "stdout",
          "text": [
            "input is on cpu\n",
            "model parameters are on [device(type='cpu'), device(type='cpu'), device(type='cpu'), device(type='cpu')]\n",
            "output is on cpu\n",
            "input is on cuda:0\n",
            "model parameters are on [device(type='cuda', index=0), device(type='cuda', index=0), device(type='cuda', index=0), device(type='cuda', index=0)]\n",
            "output is on cuda:0\n"
          ]
        }
      ],
      "source": [
        "rand_tensor = torch.rand(5,2)\n",
        "simple_model = nn.Sequential(nn.Linear(2,10), nn.ReLU(), nn.Linear(10,1))\n",
        "print(f'input is on {rand_tensor.device}')\n",
        "print(f'model parameters are on {[param.device for param in simple_model.parameters()]}')\n",
        "print(f'output is on {simple_model(rand_tensor).device}')\n",
        "\n",
        "# device = torch.device('cuda')\n",
        "device = torch.device('cuda' if torch.cuda.is_available() else 'cpu')\n",
        "# ----------- <Your code> ---------------\n",
        "rand_tensor = rand_tensor.to(device)\n",
        "simple_model = simple_model.to(device)\n",
        "# --------- <End your code> -------------\n",
        "print(f'input is on {rand_tensor.device}')\n",
        "print(f'model parameters are on {[param.device for param in simple_model.parameters()]}')\n",
        "print(f'output is on {simple_model(rand_tensor).device}')"
      ]
    },
    {
      "cell_type": "markdown",
      "id": "XtcsVkMuDQ4m",
      "metadata": {
        "id": "XtcsVkMuDQ4m"
      },
      "source": [
        "# Train and Test Functions\n",
        "Revised from my former AI assignment"
      ]
    },
    {
      "cell_type": "code",
      "execution_count": null,
      "id": "f7071f00",
      "metadata": {
        "id": "f7071f00"
      },
      "outputs": [],
      "source": [
        "def train(model: nn.Module,\n",
        "          loss_fn: nn.modules.loss._Loss,\n",
        "          optimizer: torch.optim.Optimizer,\n",
        "          train_loader: torch.utils.data.DataLoader,\n",
        "          epoch: int=0)-> List:\n",
        "    # ----------- <Your code> ---------------\n",
        "    model = model.to(device)\n",
        "    model.train() # we need to set the mode for our model\n",
        "    train_loss = []\n",
        "\n",
        "    for batch_idx, (images, targets) in enumerate(train_loader):\n",
        "      images = images.to(device)\n",
        "      targets = targets.to(device)\n",
        "      optimizer.zero_grad()\n",
        "      output = model(images)\n",
        "      loss = loss_fn(output, targets) # Here is a typical loss function (negative log likelihood)\n",
        "      loss.backward()\n",
        "      optimizer.step()\n",
        "\n",
        "      train_loss.append(loss.item())\n",
        "\n",
        "      if batch_idx % (len(train_loader)//8) == 0: # We visulize our output every 10 batches\n",
        "        print(f'Epoch {epoch}: [{batch_idx*len(images)}/{len(train_loader.dataset)}] Loss: {loss.item():.3f}')\n",
        "      # ----------- <End Your code> ---------------\n",
        "    assert len(train_loss) == len(train_loader)\n",
        "    return train_loss\n",
        "\n",
        "def test(model: nn.Module,\n",
        "         loss_fn: nn.modules.loss._Loss,\n",
        "         test_loader: torch.utils.data.DataLoader,\n",
        "         epoch: int=0)-> Dict:\n",
        "    # ----------- <Your code> ---------------\n",
        "    model = model.to(device)\n",
        "    model.eval() # we need to set the mode for our model\n",
        "\n",
        "    test_loss = 0\n",
        "    correct = 0\n",
        "    total_num = 0\n",
        "    test_stat = {'loss': 0.0, 'accuracy': 0.0, 'prediction': torch.tensor([])}\n",
        "    test_stat['prediction'] = test_stat['prediction'].to(device)\n",
        "\n",
        "    with torch.no_grad():\n",
        "      for images, targets in test_loader:\n",
        "        images = images.to(device)\n",
        "        targets = targets.to(device)\n",
        "        output = model(images)\n",
        "        test_loss += loss_fn(output, targets).item()\n",
        "        pred = output.data.max(1, keepdim=True)[1] # we get the estimate of our result by look at the largest class value\n",
        "        test_stat['prediction'] = torch.cat((test_stat['prediction'], pred))\n",
        "        correct += pred.eq(targets.data.view_as(pred)).sum() # sum up the corrected samples\n",
        "        total_num += len(images)\n",
        "\n",
        "    test_stat['loss'] = test_loss / len(test_loader)\n",
        "    test_stat['accuracy'] = correct / len(test_loader.dataset)\n",
        "\n",
        "    print(f\"Test result on epoch {epoch}: total sample: {total_num}, Avg loss: {test_stat['loss']:.3f}, Acc: {100*test_stat['accuracy']:.3f}%\")\n",
        "    # ----------- <End Your code> ---------------\n",
        "    # dictionary output should include loss, accuracy and prediction\n",
        "    assert \"loss\" and \"accuracy\" and \"prediction\" in test_stat.keys()\n",
        "    # \"prediction\" should be a 1D tensor\n",
        "    assert len(test_stat[\"prediction\"]) == len(test_loader.dataset)\n",
        "    assert isinstance(test_stat[\"prediction\"], torch.Tensor)\n",
        "    return test_stat"
      ]
    },
    {
      "cell_type": "markdown",
      "id": "B8FiHne8YwGH",
      "metadata": {
        "id": "B8FiHne8YwGH"
      },
      "source": [
        "# Create a Dataset\n",
        "Revised from: https://dilithjay.com/blog/custom-image-classifier-with-pytorch"
      ]
    },
    {
      "cell_type": "code",
      "execution_count": null,
      "id": "HI7BqiaDKPhd",
      "metadata": {
        "id": "HI7BqiaDKPhd"
      },
      "outputs": [],
      "source": [
        "import cv2\n",
        "from PIL import Image\n",
        "from torch.utils.data import Dataset, DataLoader\n",
        "import os\n",
        "from torch.utils.data import random_split\n",
        "import torch\n",
        "import torchvision\n",
        "from sklearn.model_selection import train_test_split\n",
        "\n",
        "category_df = pd.read_csv(dir_path + 'category.csv')\n",
        "original_df = pd.read_csv(dir_path + 'train.csv')\n",
        "\n",
        "names = category_df['Category'].tolist()\n",
        "\n",
        "def name_to_idx(name):\n",
        "    return names.index(name)\n",
        "\n",
        "class CustomDataset(Dataset):\n",
        "    def __init__(self, dataframe, transform):\n",
        "        self.dataframe = dataframe\n",
        "        self.transform = transform\n",
        "\n",
        "    def __len__(self):\n",
        "        return len(self.dataframe)\n",
        "\n",
        "    def __getitem__(self, idx):\n",
        "        while True:\n",
        "            img_path = dir_path + 'train_crop/' + str(self.dataframe.iloc[idx, 1])\n",
        "            image = cv2.imread(img_path)\n",
        "            if image is None or image.size == 0:\n",
        "                idx+=1\n",
        "                continue\n",
        "\n",
        "            image = Image.fromarray(image)\n",
        "            label = name_to_idx(self.dataframe.iloc[idx, 2])\n",
        "\n",
        "            if self.transform:\n",
        "                image = self.transform(image)\n",
        "\n",
        "            return image, label"
      ]
    },
    {
      "cell_type": "code",
      "execution_count": null,
      "id": "d29ade6b",
      "metadata": {
        "colab": {
          "base_uri": "https://localhost:8080/"
        },
        "id": "d29ade6b",
        "outputId": "c40a414e-ff62-4631-df36-05b043c5bfbd"
      },
      "outputs": [
        {
          "output_type": "stream",
          "name": "stdout",
          "text": [
            "(59109, 3)\n",
            "(10431, 3)\n"
          ]
        }
      ],
      "source": [
        "transform = torchvision.transforms.Compose([\n",
        "            transforms.Resize(232, interpolation=InterpolationMode.BILINEAR),\n",
        "            transforms.CenterCrop(224),\n",
        "            transforms.ToTensor(),\n",
        "            transforms.Normalize(mean=[0.485, 0.456, 0.406], std=[0.229, 0.224, 0.225])\n",
        "            ])\n",
        "\n",
        "train_df, valid_df = train_test_split(original_df, test_size=0.15, random_state=5)\n",
        "\n",
        "print(train_df.shape)\n",
        "print(valid_df.shape)"
      ]
    },
    {
      "cell_type": "code",
      "source": [
        "train_dataset = CustomDataset(dataframe=train_df, transform=transform)\n",
        "valid_dataset = CustomDataset(dataframe=valid_df, transform=transform)\n",
        "\n",
        "train_loader = torch.utils.data.DataLoader(train_dataset, batch_size=64, shuffle=True)\n",
        "valid_loader = torch.utils.data.DataLoader(valid_dataset, batch_size=64, shuffle=False)\n",
        "\n",
        "resnet50 = models.resnet50(pretrained=False, weights=torchvision.models.ResNet50_Weights.DEFAULT.transforms())\n",
        "resnet50 = resnet50.to(device)\n",
        "\n",
        "criterion = torch.nn.CrossEntropyLoss()\n",
        "optimizer = torch.optim.Adam(resnet50.parameters(), lr=0.001)\n",
        "\n",
        "resnet50.fc=nn.Linear(in_features=2048, out_features=100, bias=True)"
      ],
      "metadata": {
        "colab": {
          "base_uri": "https://localhost:8080/"
        },
        "id": "J_Q3pqSEkC4V",
        "outputId": "04e2eaa1-d889-4742-f2b8-30f89c3f06ee"
      },
      "id": "J_Q3pqSEkC4V",
      "execution_count": null,
      "outputs": [
        {
          "output_type": "stream",
          "name": "stderr",
          "text": [
            "/usr/local/lib/python3.10/dist-packages/torchvision/models/_utils.py:223: UserWarning: Arguments other than a weight enum or `None` for 'weights' are deprecated since 0.13 and may be removed in the future. The current behavior is equivalent to passing `weights=ResNet50_Weights.IMAGENET1K_V1`. You can also use `weights=ResNet50_Weights.DEFAULT` to get the most up-to-date weights.\n",
            "  warnings.warn(msg)\n"
          ]
        }
      ]
    },
    {
      "cell_type": "code",
      "source": [
        "for epoch in range(1, 20+1):\n",
        "    train(resnet50, criterion, optimizer, train_loader, epoch)\n",
        "    test(resnet50, criterion, valid_loader, epoch)"
      ],
      "metadata": {
        "colab": {
          "base_uri": "https://localhost:8080/",
          "height": 1000
        },
        "id": "Ku1MDZThmBsu",
        "outputId": "f0b25e2c-09bd-4c7a-d5eb-b40dd54e7c19"
      },
      "id": "Ku1MDZThmBsu",
      "execution_count": null,
      "outputs": [
        {
          "output_type": "stream",
          "name": "stdout",
          "text": [
            "Epoch 1: [0/59109] Loss: 4.630\n",
            "Epoch 1: [7360/59109] Loss: 3.843\n",
            "Epoch 1: [14720/59109] Loss: 3.295\n",
            "Epoch 1: [22080/59109] Loss: 3.186\n",
            "Epoch 1: [29440/59109] Loss: 2.730\n",
            "Epoch 1: [36800/59109] Loss: 2.702\n",
            "Epoch 1: [44160/59109] Loss: 2.629\n",
            "Epoch 1: [51520/59109] Loss: 2.176\n",
            "Epoch 1: [58880/59109] Loss: 1.807\n",
            "Test result on epoch 1: total sample: 10431, Avg loss: 2.306, Acc: 48.902%\n",
            "Epoch 2: [0/59109] Loss: 2.146\n",
            "Epoch 2: [7360/59109] Loss: 1.893\n",
            "Epoch 2: [14720/59109] Loss: 1.782\n",
            "Epoch 2: [22080/59109] Loss: 2.028\n",
            "Epoch 2: [29440/59109] Loss: 2.031\n",
            "Epoch 2: [36800/59109] Loss: 1.995\n",
            "Epoch 2: [44160/59109] Loss: 1.816\n",
            "Epoch 2: [51520/59109] Loss: 1.695\n",
            "Epoch 2: [58880/59109] Loss: 2.011\n",
            "Test result on epoch 2: total sample: 10431, Avg loss: 1.848, Acc: 60.138%\n",
            "Epoch 3: [0/59109] Loss: 1.637\n",
            "Epoch 3: [7360/59109] Loss: 1.529\n",
            "Epoch 3: [14720/59109] Loss: 1.914\n",
            "Epoch 3: [22080/59109] Loss: 1.490\n",
            "Epoch 3: [29440/59109] Loss: 2.126\n",
            "Epoch 3: [36800/59109] Loss: 1.431\n",
            "Epoch 3: [44160/59109] Loss: 1.503\n",
            "Epoch 3: [51520/59109] Loss: 1.142\n",
            "Epoch 3: [58880/59109] Loss: 1.421\n",
            "Test result on epoch 3: total sample: 10431, Avg loss: 1.622, Acc: 65.957%\n",
            "Epoch 4: [0/59109] Loss: 1.090\n",
            "Epoch 4: [7360/59109] Loss: 1.155\n",
            "Epoch 4: [14720/59109] Loss: 1.290\n",
            "Epoch 4: [22080/59109] Loss: 1.401\n",
            "Epoch 4: [29440/59109] Loss: 0.896\n",
            "Epoch 4: [36800/59109] Loss: 1.148\n",
            "Epoch 4: [44160/59109] Loss: 0.973\n",
            "Epoch 4: [51520/59109] Loss: 0.951\n",
            "Epoch 4: [58880/59109] Loss: 1.141\n",
            "Test result on epoch 4: total sample: 10431, Avg loss: 1.601, Acc: 65.650%\n",
            "Epoch 5: [0/59109] Loss: 1.096\n",
            "Epoch 5: [7360/59109] Loss: 0.954\n",
            "Epoch 5: [14720/59109] Loss: 0.795\n",
            "Epoch 5: [22080/59109] Loss: 1.066\n",
            "Epoch 5: [29440/59109] Loss: 1.169\n",
            "Epoch 5: [36800/59109] Loss: 0.839\n",
            "Epoch 5: [44160/59109] Loss: 1.059\n",
            "Epoch 5: [51520/59109] Loss: 1.234\n",
            "Epoch 5: [58880/59109] Loss: 0.907\n",
            "Test result on epoch 5: total sample: 10431, Avg loss: 1.530, Acc: 68.153%\n",
            "Epoch 6: [0/59109] Loss: 0.797\n",
            "Epoch 6: [7360/59109] Loss: 0.742\n",
            "Epoch 6: [14720/59109] Loss: 1.040\n",
            "Epoch 6: [22080/59109] Loss: 1.042\n",
            "Epoch 6: [29440/59109] Loss: 0.758\n",
            "Epoch 6: [36800/59109] Loss: 0.891\n",
            "Epoch 6: [44160/59109] Loss: 0.588\n",
            "Epoch 6: [51520/59109] Loss: 1.021\n",
            "Epoch 6: [58880/59109] Loss: 0.960\n",
            "Test result on epoch 6: total sample: 10431, Avg loss: 1.508, Acc: 69.102%\n",
            "Epoch 7: [0/59109] Loss: 0.549\n",
            "Epoch 7: [7360/59109] Loss: 0.572\n",
            "Epoch 7: [14720/59109] Loss: 0.535\n",
            "Epoch 7: [22080/59109] Loss: 0.357\n",
            "Epoch 7: [29440/59109] Loss: 0.923\n",
            "Epoch 7: [36800/59109] Loss: 0.641\n",
            "Epoch 7: [44160/59109] Loss: 0.811\n",
            "Epoch 7: [51520/59109] Loss: 0.980\n",
            "Epoch 7: [58880/59109] Loss: 0.880\n",
            "Test result on epoch 7: total sample: 10431, Avg loss: 1.544, Acc: 69.562%\n",
            "Epoch 8: [0/59109] Loss: 0.542\n",
            "Epoch 8: [7360/59109] Loss: 0.579\n",
            "Epoch 8: [14720/59109] Loss: 0.540\n",
            "Epoch 8: [22080/59109] Loss: 0.489\n",
            "Epoch 8: [29440/59109] Loss: 0.759\n",
            "Epoch 8: [36800/59109] Loss: 0.605\n",
            "Epoch 8: [44160/59109] Loss: 0.700\n",
            "Epoch 8: [51520/59109] Loss: 0.654\n",
            "Epoch 8: [58880/59109] Loss: 0.601\n",
            "Test result on epoch 8: total sample: 10431, Avg loss: 1.523, Acc: 70.674%\n",
            "Epoch 9: [0/59109] Loss: 0.317\n",
            "Epoch 9: [7360/59109] Loss: 0.378\n",
            "Epoch 9: [14720/59109] Loss: 0.345\n",
            "Epoch 9: [22080/59109] Loss: 0.499\n",
            "Epoch 9: [29440/59109] Loss: 0.514\n",
            "Epoch 9: [36800/59109] Loss: 0.360\n",
            "Epoch 9: [44160/59109] Loss: 0.622\n",
            "Epoch 9: [51520/59109] Loss: 0.416\n",
            "Epoch 9: [58880/59109] Loss: 0.528\n",
            "Test result on epoch 9: total sample: 10431, Avg loss: 1.507, Acc: 71.738%\n",
            "Epoch 10: [0/59109] Loss: 0.089\n",
            "Epoch 10: [7360/59109] Loss: 0.078\n",
            "Epoch 10: [14720/59109] Loss: 0.108\n",
            "Epoch 10: [22080/59109] Loss: 0.153\n",
            "Epoch 10: [29440/59109] Loss: 0.383\n",
            "Epoch 10: [36800/59109] Loss: 0.292\n",
            "Epoch 10: [44160/59109] Loss: 0.386\n",
            "Epoch 10: [51520/59109] Loss: 0.480\n",
            "Epoch 10: [58880/59109] Loss: 0.564\n",
            "Test result on epoch 10: total sample: 10431, Avg loss: 1.588, Acc: 70.885%\n",
            "Epoch 11: [0/59109] Loss: 0.310\n",
            "Epoch 11: [7360/59109] Loss: 0.261\n",
            "Epoch 11: [14720/59109] Loss: 0.144\n",
            "Epoch 11: [22080/59109] Loss: 0.193\n"
          ]
        },
        {
          "output_type": "error",
          "ename": "KeyboardInterrupt",
          "evalue": "",
          "traceback": [
            "\u001b[0;31m---------------------------------------------------------------------------\u001b[0m",
            "\u001b[0;31mKeyboardInterrupt\u001b[0m                         Traceback (most recent call last)",
            "\u001b[0;32m<ipython-input-14-3570991e5664>\u001b[0m in \u001b[0;36m<cell line: 1>\u001b[0;34m()\u001b[0m\n\u001b[1;32m      1\u001b[0m \u001b[0;32mfor\u001b[0m \u001b[0mepoch\u001b[0m \u001b[0;32min\u001b[0m \u001b[0mrange\u001b[0m\u001b[0;34m(\u001b[0m\u001b[0;36m1\u001b[0m\u001b[0;34m,\u001b[0m \u001b[0;36m20\u001b[0m\u001b[0;34m+\u001b[0m\u001b[0;36m1\u001b[0m\u001b[0;34m)\u001b[0m\u001b[0;34m:\u001b[0m\u001b[0;34m\u001b[0m\u001b[0;34m\u001b[0m\u001b[0m\n\u001b[0;32m----> 2\u001b[0;31m     \u001b[0mtrain\u001b[0m\u001b[0;34m(\u001b[0m\u001b[0mresnet50\u001b[0m\u001b[0;34m,\u001b[0m \u001b[0mcriterion\u001b[0m\u001b[0;34m,\u001b[0m \u001b[0moptimizer\u001b[0m\u001b[0;34m,\u001b[0m \u001b[0mtrain_loader\u001b[0m\u001b[0;34m,\u001b[0m \u001b[0mepoch\u001b[0m\u001b[0;34m)\u001b[0m\u001b[0;34m\u001b[0m\u001b[0;34m\u001b[0m\u001b[0m\n\u001b[0m\u001b[1;32m      3\u001b[0m     \u001b[0mtest\u001b[0m\u001b[0;34m(\u001b[0m\u001b[0mresnet50\u001b[0m\u001b[0;34m,\u001b[0m \u001b[0mcriterion\u001b[0m\u001b[0;34m,\u001b[0m \u001b[0mvalid_loader\u001b[0m\u001b[0;34m,\u001b[0m \u001b[0mepoch\u001b[0m\u001b[0;34m)\u001b[0m\u001b[0;34m\u001b[0m\u001b[0;34m\u001b[0m\u001b[0m\n",
            "\u001b[0;32m<ipython-input-10-c3123681fdc9>\u001b[0m in \u001b[0;36mtrain\u001b[0;34m(model, loss_fn, optimizer, train_loader, epoch)\u001b[0m\n\u001b[1;32m      9\u001b[0m     \u001b[0mtrain_loss\u001b[0m \u001b[0;34m=\u001b[0m \u001b[0;34m[\u001b[0m\u001b[0;34m]\u001b[0m\u001b[0;34m\u001b[0m\u001b[0;34m\u001b[0m\u001b[0m\n\u001b[1;32m     10\u001b[0m \u001b[0;34m\u001b[0m\u001b[0m\n\u001b[0;32m---> 11\u001b[0;31m     \u001b[0;32mfor\u001b[0m \u001b[0mbatch_idx\u001b[0m\u001b[0;34m,\u001b[0m \u001b[0;34m(\u001b[0m\u001b[0mimages\u001b[0m\u001b[0;34m,\u001b[0m \u001b[0mtargets\u001b[0m\u001b[0;34m)\u001b[0m \u001b[0;32min\u001b[0m \u001b[0menumerate\u001b[0m\u001b[0;34m(\u001b[0m\u001b[0mtrain_loader\u001b[0m\u001b[0;34m)\u001b[0m\u001b[0;34m:\u001b[0m\u001b[0;34m\u001b[0m\u001b[0;34m\u001b[0m\u001b[0m\n\u001b[0m\u001b[1;32m     12\u001b[0m       \u001b[0mimages\u001b[0m \u001b[0;34m=\u001b[0m \u001b[0mimages\u001b[0m\u001b[0;34m.\u001b[0m\u001b[0mto\u001b[0m\u001b[0;34m(\u001b[0m\u001b[0mdevice\u001b[0m\u001b[0;34m)\u001b[0m\u001b[0;34m\u001b[0m\u001b[0;34m\u001b[0m\u001b[0m\n\u001b[1;32m     13\u001b[0m       \u001b[0mtargets\u001b[0m \u001b[0;34m=\u001b[0m \u001b[0mtargets\u001b[0m\u001b[0;34m.\u001b[0m\u001b[0mto\u001b[0m\u001b[0;34m(\u001b[0m\u001b[0mdevice\u001b[0m\u001b[0;34m)\u001b[0m\u001b[0;34m\u001b[0m\u001b[0;34m\u001b[0m\u001b[0m\n",
            "\u001b[0;32m/usr/local/lib/python3.10/dist-packages/torch/utils/data/dataloader.py\u001b[0m in \u001b[0;36m__next__\u001b[0;34m(self)\u001b[0m\n\u001b[1;32m    629\u001b[0m                 \u001b[0;31m# TODO(https://github.com/pytorch/pytorch/issues/76750)\u001b[0m\u001b[0;34m\u001b[0m\u001b[0;34m\u001b[0m\u001b[0m\n\u001b[1;32m    630\u001b[0m                 \u001b[0mself\u001b[0m\u001b[0;34m.\u001b[0m\u001b[0m_reset\u001b[0m\u001b[0;34m(\u001b[0m\u001b[0;34m)\u001b[0m  \u001b[0;31m# type: ignore[call-arg]\u001b[0m\u001b[0;34m\u001b[0m\u001b[0;34m\u001b[0m\u001b[0m\n\u001b[0;32m--> 631\u001b[0;31m             \u001b[0mdata\u001b[0m \u001b[0;34m=\u001b[0m \u001b[0mself\u001b[0m\u001b[0;34m.\u001b[0m\u001b[0m_next_data\u001b[0m\u001b[0;34m(\u001b[0m\u001b[0;34m)\u001b[0m\u001b[0;34m\u001b[0m\u001b[0;34m\u001b[0m\u001b[0m\n\u001b[0m\u001b[1;32m    632\u001b[0m             \u001b[0mself\u001b[0m\u001b[0;34m.\u001b[0m\u001b[0m_num_yielded\u001b[0m \u001b[0;34m+=\u001b[0m \u001b[0;36m1\u001b[0m\u001b[0;34m\u001b[0m\u001b[0;34m\u001b[0m\u001b[0m\n\u001b[1;32m    633\u001b[0m             \u001b[0;32mif\u001b[0m \u001b[0mself\u001b[0m\u001b[0;34m.\u001b[0m\u001b[0m_dataset_kind\u001b[0m \u001b[0;34m==\u001b[0m \u001b[0m_DatasetKind\u001b[0m\u001b[0;34m.\u001b[0m\u001b[0mIterable\u001b[0m \u001b[0;32mand\u001b[0m\u001b[0;31m \u001b[0m\u001b[0;31m\\\u001b[0m\u001b[0;34m\u001b[0m\u001b[0;34m\u001b[0m\u001b[0m\n",
            "\u001b[0;32m/usr/local/lib/python3.10/dist-packages/torch/utils/data/dataloader.py\u001b[0m in \u001b[0;36m_next_data\u001b[0;34m(self)\u001b[0m\n\u001b[1;32m    673\u001b[0m     \u001b[0;32mdef\u001b[0m \u001b[0m_next_data\u001b[0m\u001b[0;34m(\u001b[0m\u001b[0mself\u001b[0m\u001b[0;34m)\u001b[0m\u001b[0;34m:\u001b[0m\u001b[0;34m\u001b[0m\u001b[0;34m\u001b[0m\u001b[0m\n\u001b[1;32m    674\u001b[0m         \u001b[0mindex\u001b[0m \u001b[0;34m=\u001b[0m \u001b[0mself\u001b[0m\u001b[0;34m.\u001b[0m\u001b[0m_next_index\u001b[0m\u001b[0;34m(\u001b[0m\u001b[0;34m)\u001b[0m  \u001b[0;31m# may raise StopIteration\u001b[0m\u001b[0;34m\u001b[0m\u001b[0;34m\u001b[0m\u001b[0m\n\u001b[0;32m--> 675\u001b[0;31m         \u001b[0mdata\u001b[0m \u001b[0;34m=\u001b[0m \u001b[0mself\u001b[0m\u001b[0;34m.\u001b[0m\u001b[0m_dataset_fetcher\u001b[0m\u001b[0;34m.\u001b[0m\u001b[0mfetch\u001b[0m\u001b[0;34m(\u001b[0m\u001b[0mindex\u001b[0m\u001b[0;34m)\u001b[0m  \u001b[0;31m# may raise StopIteration\u001b[0m\u001b[0;34m\u001b[0m\u001b[0;34m\u001b[0m\u001b[0m\n\u001b[0m\u001b[1;32m    676\u001b[0m         \u001b[0;32mif\u001b[0m \u001b[0mself\u001b[0m\u001b[0;34m.\u001b[0m\u001b[0m_pin_memory\u001b[0m\u001b[0;34m:\u001b[0m\u001b[0;34m\u001b[0m\u001b[0;34m\u001b[0m\u001b[0m\n\u001b[1;32m    677\u001b[0m             \u001b[0mdata\u001b[0m \u001b[0;34m=\u001b[0m \u001b[0m_utils\u001b[0m\u001b[0;34m.\u001b[0m\u001b[0mpin_memory\u001b[0m\u001b[0;34m.\u001b[0m\u001b[0mpin_memory\u001b[0m\u001b[0;34m(\u001b[0m\u001b[0mdata\u001b[0m\u001b[0;34m,\u001b[0m \u001b[0mself\u001b[0m\u001b[0;34m.\u001b[0m\u001b[0m_pin_memory_device\u001b[0m\u001b[0;34m)\u001b[0m\u001b[0;34m\u001b[0m\u001b[0;34m\u001b[0m\u001b[0m\n",
            "\u001b[0;32m/usr/local/lib/python3.10/dist-packages/torch/utils/data/_utils/fetch.py\u001b[0m in \u001b[0;36mfetch\u001b[0;34m(self, possibly_batched_index)\u001b[0m\n\u001b[1;32m     49\u001b[0m                 \u001b[0mdata\u001b[0m \u001b[0;34m=\u001b[0m \u001b[0mself\u001b[0m\u001b[0;34m.\u001b[0m\u001b[0mdataset\u001b[0m\u001b[0;34m.\u001b[0m\u001b[0m__getitems__\u001b[0m\u001b[0;34m(\u001b[0m\u001b[0mpossibly_batched_index\u001b[0m\u001b[0;34m)\u001b[0m\u001b[0;34m\u001b[0m\u001b[0;34m\u001b[0m\u001b[0m\n\u001b[1;32m     50\u001b[0m             \u001b[0;32melse\u001b[0m\u001b[0;34m:\u001b[0m\u001b[0;34m\u001b[0m\u001b[0;34m\u001b[0m\u001b[0m\n\u001b[0;32m---> 51\u001b[0;31m                 \u001b[0mdata\u001b[0m \u001b[0;34m=\u001b[0m \u001b[0;34m[\u001b[0m\u001b[0mself\u001b[0m\u001b[0;34m.\u001b[0m\u001b[0mdataset\u001b[0m\u001b[0;34m[\u001b[0m\u001b[0midx\u001b[0m\u001b[0;34m]\u001b[0m \u001b[0;32mfor\u001b[0m \u001b[0midx\u001b[0m \u001b[0;32min\u001b[0m \u001b[0mpossibly_batched_index\u001b[0m\u001b[0;34m]\u001b[0m\u001b[0;34m\u001b[0m\u001b[0;34m\u001b[0m\u001b[0m\n\u001b[0m\u001b[1;32m     52\u001b[0m         \u001b[0;32melse\u001b[0m\u001b[0;34m:\u001b[0m\u001b[0;34m\u001b[0m\u001b[0;34m\u001b[0m\u001b[0m\n\u001b[1;32m     53\u001b[0m             \u001b[0mdata\u001b[0m \u001b[0;34m=\u001b[0m \u001b[0mself\u001b[0m\u001b[0;34m.\u001b[0m\u001b[0mdataset\u001b[0m\u001b[0;34m[\u001b[0m\u001b[0mpossibly_batched_index\u001b[0m\u001b[0;34m]\u001b[0m\u001b[0;34m\u001b[0m\u001b[0;34m\u001b[0m\u001b[0m\n",
            "\u001b[0;32m/usr/local/lib/python3.10/dist-packages/torch/utils/data/_utils/fetch.py\u001b[0m in \u001b[0;36m<listcomp>\u001b[0;34m(.0)\u001b[0m\n\u001b[1;32m     49\u001b[0m                 \u001b[0mdata\u001b[0m \u001b[0;34m=\u001b[0m \u001b[0mself\u001b[0m\u001b[0;34m.\u001b[0m\u001b[0mdataset\u001b[0m\u001b[0;34m.\u001b[0m\u001b[0m__getitems__\u001b[0m\u001b[0;34m(\u001b[0m\u001b[0mpossibly_batched_index\u001b[0m\u001b[0;34m)\u001b[0m\u001b[0;34m\u001b[0m\u001b[0;34m\u001b[0m\u001b[0m\n\u001b[1;32m     50\u001b[0m             \u001b[0;32melse\u001b[0m\u001b[0;34m:\u001b[0m\u001b[0;34m\u001b[0m\u001b[0;34m\u001b[0m\u001b[0m\n\u001b[0;32m---> 51\u001b[0;31m                 \u001b[0mdata\u001b[0m \u001b[0;34m=\u001b[0m \u001b[0;34m[\u001b[0m\u001b[0mself\u001b[0m\u001b[0;34m.\u001b[0m\u001b[0mdataset\u001b[0m\u001b[0;34m[\u001b[0m\u001b[0midx\u001b[0m\u001b[0;34m]\u001b[0m \u001b[0;32mfor\u001b[0m \u001b[0midx\u001b[0m \u001b[0;32min\u001b[0m \u001b[0mpossibly_batched_index\u001b[0m\u001b[0;34m]\u001b[0m\u001b[0;34m\u001b[0m\u001b[0;34m\u001b[0m\u001b[0m\n\u001b[0m\u001b[1;32m     52\u001b[0m         \u001b[0;32melse\u001b[0m\u001b[0;34m:\u001b[0m\u001b[0;34m\u001b[0m\u001b[0;34m\u001b[0m\u001b[0m\n\u001b[1;32m     53\u001b[0m             \u001b[0mdata\u001b[0m \u001b[0;34m=\u001b[0m \u001b[0mself\u001b[0m\u001b[0;34m.\u001b[0m\u001b[0mdataset\u001b[0m\u001b[0;34m[\u001b[0m\u001b[0mpossibly_batched_index\u001b[0m\u001b[0;34m]\u001b[0m\u001b[0;34m\u001b[0m\u001b[0;34m\u001b[0m\u001b[0m\n",
            "\u001b[0;32m<ipython-input-11-ba33a985943e>\u001b[0m in \u001b[0;36m__getitem__\u001b[0;34m(self, idx)\u001b[0m\n\u001b[1;32m     33\u001b[0m \u001b[0;34m\u001b[0m\u001b[0m\n\u001b[1;32m     34\u001b[0m             \u001b[0mimage\u001b[0m \u001b[0;34m=\u001b[0m \u001b[0mImage\u001b[0m\u001b[0;34m.\u001b[0m\u001b[0mfromarray\u001b[0m\u001b[0;34m(\u001b[0m\u001b[0mimage\u001b[0m\u001b[0;34m)\u001b[0m\u001b[0;34m\u001b[0m\u001b[0;34m\u001b[0m\u001b[0m\n\u001b[0;32m---> 35\u001b[0;31m             \u001b[0mlabel\u001b[0m \u001b[0;34m=\u001b[0m \u001b[0mname_to_idx\u001b[0m\u001b[0;34m(\u001b[0m\u001b[0mself\u001b[0m\u001b[0;34m.\u001b[0m\u001b[0mdataframe\u001b[0m\u001b[0;34m.\u001b[0m\u001b[0miloc\u001b[0m\u001b[0;34m[\u001b[0m\u001b[0midx\u001b[0m\u001b[0;34m,\u001b[0m \u001b[0;36m2\u001b[0m\u001b[0;34m]\u001b[0m\u001b[0;34m)\u001b[0m\u001b[0;34m\u001b[0m\u001b[0;34m\u001b[0m\u001b[0m\n\u001b[0m\u001b[1;32m     36\u001b[0m \u001b[0;34m\u001b[0m\u001b[0m\n\u001b[1;32m     37\u001b[0m             \u001b[0;32mif\u001b[0m \u001b[0mself\u001b[0m\u001b[0;34m.\u001b[0m\u001b[0mtransform\u001b[0m\u001b[0;34m:\u001b[0m\u001b[0;34m\u001b[0m\u001b[0;34m\u001b[0m\u001b[0m\n",
            "\u001b[0;32m/usr/local/lib/python3.10/dist-packages/pandas/core/indexing.py\u001b[0m in \u001b[0;36m__getitem__\u001b[0;34m(self, key)\u001b[0m\n\u001b[1;32m   1064\u001b[0m             \u001b[0mkey\u001b[0m \u001b[0;34m=\u001b[0m \u001b[0mtuple\u001b[0m\u001b[0;34m(\u001b[0m\u001b[0mcom\u001b[0m\u001b[0;34m.\u001b[0m\u001b[0mapply_if_callable\u001b[0m\u001b[0;34m(\u001b[0m\u001b[0mx\u001b[0m\u001b[0;34m,\u001b[0m \u001b[0mself\u001b[0m\u001b[0;34m.\u001b[0m\u001b[0mobj\u001b[0m\u001b[0;34m)\u001b[0m \u001b[0;32mfor\u001b[0m \u001b[0mx\u001b[0m \u001b[0;32min\u001b[0m \u001b[0mkey\u001b[0m\u001b[0;34m)\u001b[0m\u001b[0;34m\u001b[0m\u001b[0;34m\u001b[0m\u001b[0m\n\u001b[1;32m   1065\u001b[0m             \u001b[0;32mif\u001b[0m \u001b[0mself\u001b[0m\u001b[0;34m.\u001b[0m\u001b[0m_is_scalar_access\u001b[0m\u001b[0;34m(\u001b[0m\u001b[0mkey\u001b[0m\u001b[0;34m)\u001b[0m\u001b[0;34m:\u001b[0m\u001b[0;34m\u001b[0m\u001b[0;34m\u001b[0m\u001b[0m\n\u001b[0;32m-> 1066\u001b[0;31m                 \u001b[0;32mreturn\u001b[0m \u001b[0mself\u001b[0m\u001b[0;34m.\u001b[0m\u001b[0mobj\u001b[0m\u001b[0;34m.\u001b[0m\u001b[0m_get_value\u001b[0m\u001b[0;34m(\u001b[0m\u001b[0;34m*\u001b[0m\u001b[0mkey\u001b[0m\u001b[0;34m,\u001b[0m \u001b[0mtakeable\u001b[0m\u001b[0;34m=\u001b[0m\u001b[0mself\u001b[0m\u001b[0;34m.\u001b[0m\u001b[0m_takeable\u001b[0m\u001b[0;34m)\u001b[0m\u001b[0;34m\u001b[0m\u001b[0;34m\u001b[0m\u001b[0m\n\u001b[0m\u001b[1;32m   1067\u001b[0m             \u001b[0;32mreturn\u001b[0m \u001b[0mself\u001b[0m\u001b[0;34m.\u001b[0m\u001b[0m_getitem_tuple\u001b[0m\u001b[0;34m(\u001b[0m\u001b[0mkey\u001b[0m\u001b[0;34m)\u001b[0m\u001b[0;34m\u001b[0m\u001b[0;34m\u001b[0m\u001b[0m\n\u001b[1;32m   1068\u001b[0m         \u001b[0;32melse\u001b[0m\u001b[0;34m:\u001b[0m\u001b[0;34m\u001b[0m\u001b[0;34m\u001b[0m\u001b[0m\n",
            "\u001b[0;32m/usr/local/lib/python3.10/dist-packages/pandas/core/frame.py\u001b[0m in \u001b[0;36m_get_value\u001b[0;34m(self, index, col, takeable)\u001b[0m\n\u001b[1;32m   3912\u001b[0m         \"\"\"\n\u001b[1;32m   3913\u001b[0m         \u001b[0;32mif\u001b[0m \u001b[0mtakeable\u001b[0m\u001b[0;34m:\u001b[0m\u001b[0;34m\u001b[0m\u001b[0;34m\u001b[0m\u001b[0m\n\u001b[0;32m-> 3914\u001b[0;31m             \u001b[0mseries\u001b[0m \u001b[0;34m=\u001b[0m \u001b[0mself\u001b[0m\u001b[0;34m.\u001b[0m\u001b[0m_ixs\u001b[0m\u001b[0;34m(\u001b[0m\u001b[0mcol\u001b[0m\u001b[0;34m,\u001b[0m \u001b[0maxis\u001b[0m\u001b[0;34m=\u001b[0m\u001b[0;36m1\u001b[0m\u001b[0;34m)\u001b[0m\u001b[0;34m\u001b[0m\u001b[0;34m\u001b[0m\u001b[0m\n\u001b[0m\u001b[1;32m   3915\u001b[0m             \u001b[0;32mreturn\u001b[0m \u001b[0mseries\u001b[0m\u001b[0;34m.\u001b[0m\u001b[0m_values\u001b[0m\u001b[0;34m[\u001b[0m\u001b[0mindex\u001b[0m\u001b[0;34m]\u001b[0m\u001b[0;34m\u001b[0m\u001b[0;34m\u001b[0m\u001b[0m\n\u001b[1;32m   3916\u001b[0m \u001b[0;34m\u001b[0m\u001b[0m\n",
            "\u001b[0;32m/usr/local/lib/python3.10/dist-packages/pandas/core/frame.py\u001b[0m in \u001b[0;36m_ixs\u001b[0;34m(self, i, axis)\u001b[0m\n\u001b[1;32m   3728\u001b[0m             \u001b[0mlabel\u001b[0m \u001b[0;34m=\u001b[0m \u001b[0mself\u001b[0m\u001b[0;34m.\u001b[0m\u001b[0mcolumns\u001b[0m\u001b[0;34m[\u001b[0m\u001b[0mi\u001b[0m\u001b[0;34m]\u001b[0m\u001b[0;34m\u001b[0m\u001b[0;34m\u001b[0m\u001b[0m\n\u001b[1;32m   3729\u001b[0m \u001b[0;34m\u001b[0m\u001b[0m\n\u001b[0;32m-> 3730\u001b[0;31m             \u001b[0mcol_mgr\u001b[0m \u001b[0;34m=\u001b[0m \u001b[0mself\u001b[0m\u001b[0;34m.\u001b[0m\u001b[0m_mgr\u001b[0m\u001b[0;34m.\u001b[0m\u001b[0miget\u001b[0m\u001b[0;34m(\u001b[0m\u001b[0mi\u001b[0m\u001b[0;34m)\u001b[0m\u001b[0;34m\u001b[0m\u001b[0;34m\u001b[0m\u001b[0m\n\u001b[0m\u001b[1;32m   3731\u001b[0m             \u001b[0mresult\u001b[0m \u001b[0;34m=\u001b[0m \u001b[0mself\u001b[0m\u001b[0;34m.\u001b[0m\u001b[0m_box_col_values\u001b[0m\u001b[0;34m(\u001b[0m\u001b[0mcol_mgr\u001b[0m\u001b[0;34m,\u001b[0m \u001b[0mi\u001b[0m\u001b[0;34m)\u001b[0m\u001b[0;34m\u001b[0m\u001b[0;34m\u001b[0m\u001b[0m\n\u001b[1;32m   3732\u001b[0m \u001b[0;34m\u001b[0m\u001b[0m\n",
            "\u001b[0;32m/usr/local/lib/python3.10/dist-packages/pandas/core/internals/managers.py\u001b[0m in \u001b[0;36miget\u001b[0;34m(self, i, track_ref)\u001b[0m\n\u001b[1;32m   1131\u001b[0m         \u001b[0mReturn\u001b[0m \u001b[0mthe\u001b[0m \u001b[0mdata\u001b[0m \u001b[0;32mas\u001b[0m \u001b[0ma\u001b[0m \u001b[0mSingleBlockManager\u001b[0m\u001b[0;34m.\u001b[0m\u001b[0;34m\u001b[0m\u001b[0;34m\u001b[0m\u001b[0m\n\u001b[1;32m   1132\u001b[0m         \"\"\"\n\u001b[0;32m-> 1133\u001b[0;31m         \u001b[0mblock\u001b[0m \u001b[0;34m=\u001b[0m \u001b[0mself\u001b[0m\u001b[0;34m.\u001b[0m\u001b[0mblocks\u001b[0m\u001b[0;34m[\u001b[0m\u001b[0mself\u001b[0m\u001b[0;34m.\u001b[0m\u001b[0mblknos\u001b[0m\u001b[0;34m[\u001b[0m\u001b[0mi\u001b[0m\u001b[0;34m]\u001b[0m\u001b[0;34m]\u001b[0m\u001b[0;34m\u001b[0m\u001b[0;34m\u001b[0m\u001b[0m\n\u001b[0m\u001b[1;32m   1134\u001b[0m         \u001b[0mvalues\u001b[0m \u001b[0;34m=\u001b[0m \u001b[0mblock\u001b[0m\u001b[0;34m.\u001b[0m\u001b[0miget\u001b[0m\u001b[0;34m(\u001b[0m\u001b[0mself\u001b[0m\u001b[0;34m.\u001b[0m\u001b[0mblklocs\u001b[0m\u001b[0;34m[\u001b[0m\u001b[0mi\u001b[0m\u001b[0;34m]\u001b[0m\u001b[0;34m)\u001b[0m\u001b[0;34m\u001b[0m\u001b[0;34m\u001b[0m\u001b[0m\n\u001b[1;32m   1135\u001b[0m \u001b[0;34m\u001b[0m\u001b[0m\n",
            "\u001b[0;32m/usr/local/lib/python3.10/dist-packages/pandas/core/internals/managers.py\u001b[0m in \u001b[0;36mblknos\u001b[0;34m(self)\u001b[0m\n\u001b[1;32m    180\u001b[0m         \u001b[0mself\u001b[0m\u001b[0;34m.\u001b[0m\u001b[0mblocks\u001b[0m\u001b[0;34m[\u001b[0m\u001b[0mself\u001b[0m\u001b[0;34m.\u001b[0m\u001b[0mblknos\u001b[0m\u001b[0;34m[\u001b[0m\u001b[0mi\u001b[0m\u001b[0;34m]\u001b[0m\u001b[0;34m]\u001b[0m\u001b[0;34m\u001b[0m\u001b[0;34m\u001b[0m\u001b[0m\n\u001b[1;32m    181\u001b[0m         \"\"\"\n\u001b[0;32m--> 182\u001b[0;31m         \u001b[0;32mif\u001b[0m \u001b[0mself\u001b[0m\u001b[0;34m.\u001b[0m\u001b[0m_blknos\u001b[0m \u001b[0;32mis\u001b[0m \u001b[0;32mNone\u001b[0m\u001b[0;34m:\u001b[0m\u001b[0;34m\u001b[0m\u001b[0;34m\u001b[0m\u001b[0m\n\u001b[0m\u001b[1;32m    183\u001b[0m             \u001b[0;31m# Note: these can be altered by other BlockManager methods.\u001b[0m\u001b[0;34m\u001b[0m\u001b[0;34m\u001b[0m\u001b[0m\n\u001b[1;32m    184\u001b[0m             \u001b[0mself\u001b[0m\u001b[0;34m.\u001b[0m\u001b[0m_rebuild_blknos_and_blklocs\u001b[0m\u001b[0;34m(\u001b[0m\u001b[0;34m)\u001b[0m\u001b[0;34m\u001b[0m\u001b[0;34m\u001b[0m\u001b[0m\n",
            "\u001b[0;31mKeyboardInterrupt\u001b[0m: "
          ]
        }
      ]
    },
    {
      "cell_type": "code",
      "execution_count": null,
      "id": "3dae5b70",
      "metadata": {
        "id": "3dae5b70"
      },
      "outputs": [],
      "source": [
        "model_path = f\"{dir_path}resnet50_v2.pth\"\n",
        "torch.save(resnet50.state_dict(), model_path)"
      ]
    },
    {
      "cell_type": "markdown",
      "source": [
        "# Test the data and generate csv file"
      ],
      "metadata": {
        "id": "DQrOaHX3rCT7"
      },
      "id": "DQrOaHX3rCT7"
    },
    {
      "cell_type": "code",
      "source": [
        "import torch\n",
        "from torchvision import transforms\n",
        "from torchvision.models import resnet50\n",
        "from PIL import Image\n",
        "import csv\n",
        "import os\n",
        "\n",
        "dir_path = '/content/drive/MyDrive/Colab Notebooks/ECE50024/Mini_Challenge/'\n",
        "\n",
        "category_df = pd.read_csv(dir_path + 'category.csv')\n",
        "\n",
        "model = models.resnet50(pretrained=False)  # Don't load pretrained weights\n",
        "model.fc = torch.nn.Linear(model.fc.in_features, 100)\n",
        "state_dict = torch.load(dir_path + 'resnet50_v2.pth', map_location=torch.device('cuda'))\n",
        "model.load_state_dict(state_dict)\n",
        "model.eval()\n",
        "\n",
        "transform = torchvision.transforms.Compose([\n",
        "    transforms.Resize(232, interpolation=InterpolationMode.BILINEAR),\n",
        "    transforms.CenterCrop(224),\n",
        "    transforms.ToTensor(),\n",
        "    transforms.Normalize(mean=[0.485, 0.456, 0.406], std=[0.229, 0.224, 0.225])\n",
        "])\n",
        "\n",
        "test_num = 4977\n",
        "predictions = [['Id', 'Category']]\n",
        "\n",
        "for id in range(test_num):\n",
        "    if id%500==0:\n",
        "        print(f'Progress: [{id}/{test_num}]')\n",
        "    prediction = []\n",
        "    prediction.append(id)\n",
        "\n",
        "    image_path = f'{dir_path}test_crop/{id}.jpg'\n",
        "    if not os.path.exists(image_path):\n",
        "        image_path = f'{dir_path}test/{id}.jpg'\n",
        "\n",
        "    image = Image.open(image_path).convert('RGB')\n",
        "    if image is None or image.size == 0:\n",
        "        prediction.append('None')\n",
        "        predictions.append(prediction)\n",
        "        continue\n",
        "\n",
        "    image = transform(image).unsqueeze(0)\n",
        "\n",
        "    if torch.cuda.is_available():\n",
        "        image = image.to('cuda')\n",
        "        model.to('cuda')\n",
        "\n",
        "    with torch.no_grad():\n",
        "        output = model(image)\n",
        "\n",
        "    _, predicted = torch.max(output, 1)\n",
        "    prediction.append(category_df.iloc[predicted.item(), 1])\n",
        "    predictions.append(prediction)\n",
        "\n",
        "# Specify the CSV file name\n",
        "file_name = f\"{dir_path}test_prediction.csv\"\n",
        "\n",
        "# Open the file in write mode\n",
        "with open(file_name, mode='w', newline='') as file:\n",
        "    writer = csv.writer(file)\n",
        "    writer.writerows(predictions)"
      ],
      "metadata": {
        "colab": {
          "base_uri": "https://localhost:8080/"
        },
        "id": "wV8xYsG7Wf7Q",
        "outputId": "5f41df3d-73cf-4053-c8c6-799617505113"
      },
      "id": "wV8xYsG7Wf7Q",
      "execution_count": null,
      "outputs": [
        {
          "output_type": "stream",
          "name": "stderr",
          "text": [
            "/usr/local/lib/python3.10/dist-packages/torchvision/models/_utils.py:208: UserWarning: The parameter 'pretrained' is deprecated since 0.13 and may be removed in the future, please use 'weights' instead.\n",
            "  warnings.warn(\n",
            "/usr/local/lib/python3.10/dist-packages/torchvision/models/_utils.py:223: UserWarning: Arguments other than a weight enum or `None` for 'weights' are deprecated since 0.13 and may be removed in the future. The current behavior is equivalent to passing `weights=None`.\n",
            "  warnings.warn(msg)\n"
          ]
        },
        {
          "output_type": "stream",
          "name": "stdout",
          "text": [
            "Progress: [0/4977]\n",
            "Progress: [500/4977]\n",
            "Progress: [1000/4977]\n",
            "Progress: [1500/4977]\n",
            "Progress: [2000/4977]\n",
            "Progress: [2500/4977]\n",
            "Progress: [3000/4977]\n",
            "Progress: [3500/4977]\n",
            "Progress: [4000/4977]\n",
            "Progress: [4500/4977]\n"
          ]
        }
      ]
    }
  ],
  "metadata": {
    "accelerator": "GPU",
    "colab": {
      "gpuType": "V100",
      "provenance": []
    },
    "kernelspec": {
      "display_name": "Python 3",
      "name": "python3"
    },
    "language_info": {
      "codemirror_mode": {
        "name": "ipython",
        "version": 3
      },
      "file_extension": ".py",
      "mimetype": "text/x-python",
      "name": "python",
      "nbconvert_exporter": "python",
      "pygments_lexer": "ipython3",
      "version": "3.9.13"
    }
  },
  "nbformat": 4,
  "nbformat_minor": 5
}